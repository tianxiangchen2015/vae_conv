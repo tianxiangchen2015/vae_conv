{
 "cells": [
  {
   "cell_type": "code",
   "execution_count": 6,
   "metadata": {
    "collapsed": true
   },
   "outputs": [],
   "source": [
    "import numpy as np\n",
    "import matplotlib.pyplot as plt\n",
    "import gzip\n",
    "from six.moves import cPickle\n",
    "import sys    "
   ]
  },
  {
   "cell_type": "code",
   "execution_count": 7,
   "metadata": {
    "collapsed": false
   },
   "outputs": [
    {
     "name": "stdout",
     "output_type": "stream",
     "text": [
      "Total of 400 epochs are set to run\n"
     ]
    }
   ],
   "source": [
    "# selecting parameters\n",
    "# number of convolutional filters to use\n",
    "nb_filters = 64 \n",
    "\n",
    "# filter size    \n",
    "filter_rows = 1\n",
    "filter_cols = 2 \n",
    "\n",
    "# convolution kernel size\n",
    "nb_conv = 3\n",
    "\n",
    "# subsampling size \n",
    "subsample_rows = 1 \n",
    "subsample_cols_a = 2    \n",
    "subsample_cols_b = 1\n",
    "\n",
    "# batch size \n",
    "batch_size = 50\n",
    "\n",
    "# dimension    \n",
    "latent_dim = 3\n",
    "intermediate_dim = 128\n",
    "\n",
    "# epsilon values \n",
    "mean=0.\n",
    "epsilon_std = 1.0      \n",
    "\n",
    "# dropout \n",
    "drop = 0\n",
    "\n",
    "# epoch, iteration sizes  \n",
    "nb_epoch = 1  \n",
    "\n",
    "# saving models: start & end\n",
    "nb_start = 0\n",
    "nb_end = 400       \n",
    "total_epochs = (nb_end-nb_start)*nb_epoch  \n",
    "print \"Total of %i epochs are set to run\" % total_epochs  "
   ]
  },
  {
   "cell_type": "code",
   "execution_count": 8,
   "metadata": {
    "collapsed": false
   },
   "outputs": [
    {
     "name": "stdout",
     "output_type": "stream",
     "text": [
      "directories creation compledted or if already exist - then checked\n"
     ]
    }
   ],
   "source": [
    "import os, sys\n",
    "path_data = './X_110000.pkl.gz' \n",
    "path_1 = \"./fig\"\n",
    "path_2 = \"./imgs\"\n",
    "path_3 = \"./hist\"\n",
    "path_4 = \"./model\"\n",
    "if not os.path.exists(path_1):\n",
    "    os.mkdir(path_1, 0755);\n",
    "if not os.path.exists(path_2):\n",
    "    os.mkdir(path_2, 0755);\n",
    "if not os.path.exists(path_3):\n",
    "    os.mkdir(path_3, 0755);\n",
    "if not os.path.exists(path_4):\n",
    "    os.mkdir(path_4, 0755);   \n",
    "print \"directories creation compledted or if already exist - then checked\"   "
   ]
  },
  {
   "cell_type": "code",
   "execution_count": 16,
   "metadata": {
    "collapsed": false
   },
   "outputs": [],
   "source": [
    "with gzip.open(path_data, 'rb') as f3:    \n",
    "    (x_train_raw, y_train_raw), (x_test_raw,y_test_raw), (x_pred_raw,y_pred_raw) = cPickle.load(f3)  \n"
   ]
  },
  {
   "cell_type": "code",
   "execution_count": null,
   "metadata": {
    "collapsed": true
   },
   "outputs": [],
   "source": []
  }
 ],
 "metadata": {
  "kernelspec": {
   "display_name": "Python 2",
   "language": "python",
   "name": "python2"
  },
  "language_info": {
   "codemirror_mode": {
    "name": "ipython",
    "version": 2
   },
   "file_extension": ".py",
   "mimetype": "text/x-python",
   "name": "python",
   "nbconvert_exporter": "python",
   "pygments_lexer": "ipython2",
   "version": "2.7.11"
  }
 },
 "nbformat": 4,
 "nbformat_minor": 0
}
